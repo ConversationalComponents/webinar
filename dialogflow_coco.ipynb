{
 "cells": [
  {
   "cell_type": "markdown",
   "metadata": {},
   "source": [
    "## Objective\n",
    "- connect a customized component to a demo bot\n",
    "\n",
    "## steps\n",
    "- present the resources repository\n",
    "- set up a demo bot ( + story)\n",
    "- interface with the bot with python\n",
    "- select a component\n",
    "- connect a component\n",
    "- customize a component\n",
    "- setting up the competition web server + chat window\n",
    "- questions"
   ]
  },
  {
   "cell_type": "markdown",
   "metadata": {},
   "source": [
    "### connecting to dialogflow"
   ]
  },
  {
   "cell_type": "code",
   "execution_count": 62,
   "metadata": {
    "collapsed": true,
    "jupyter": {
     "outputs_hidden": true
    }
   },
   "outputs": [
    {
     "name": "stdout",
     "output_type": "stream",
     "text": [
      "Requirement already satisfied: dialogflow in /Users/chen/.pyenv/versions/3.7.2/envs/webinar/lib/python3.7/site-packages (0.7.2)\n",
      "Requirement already satisfied: google-api-core[grpc]<2.0.0dev,>=1.14.0 in /Users/chen/.pyenv/versions/3.7.2/envs/webinar/lib/python3.7/site-packages (from dialogflow) (1.14.3)\n",
      "Requirement already satisfied: google-auth<2.0dev,>=0.4.0 in /Users/chen/.pyenv/versions/3.7.2/envs/webinar/lib/python3.7/site-packages (from google-api-core[grpc]<2.0.0dev,>=1.14.0->dialogflow) (1.7.1)\n",
      "Requirement already satisfied: requests<3.0.0dev,>=2.18.0 in /Users/chen/.pyenv/versions/3.7.2/envs/webinar/lib/python3.7/site-packages (from google-api-core[grpc]<2.0.0dev,>=1.14.0->dialogflow) (2.22.0)\n",
      "Requirement already satisfied: googleapis-common-protos<2.0dev,>=1.6.0 in /Users/chen/.pyenv/versions/3.7.2/envs/webinar/lib/python3.7/site-packages (from google-api-core[grpc]<2.0.0dev,>=1.14.0->dialogflow) (1.6.0)\n",
      "Requirement already satisfied: setuptools>=34.0.0 in /Users/chen/.pyenv/versions/3.7.2/envs/webinar/lib/python3.7/site-packages (from google-api-core[grpc]<2.0.0dev,>=1.14.0->dialogflow) (40.6.2)\n",
      "Requirement already satisfied: protobuf>=3.4.0 in /Users/chen/.pyenv/versions/3.7.2/envs/webinar/lib/python3.7/site-packages (from google-api-core[grpc]<2.0.0dev,>=1.14.0->dialogflow) (3.10.0)\n",
      "Requirement already satisfied: six>=1.10.0 in /Users/chen/.pyenv/versions/3.7.2/envs/webinar/lib/python3.7/site-packages (from google-api-core[grpc]<2.0.0dev,>=1.14.0->dialogflow) (1.13.0)\n",
      "Requirement already satisfied: pytz in /Users/chen/.pyenv/versions/3.7.2/envs/webinar/lib/python3.7/site-packages (from google-api-core[grpc]<2.0.0dev,>=1.14.0->dialogflow) (2019.3)\n",
      "Requirement already satisfied: grpcio<2.0dev,>=1.8.2; extra == \"grpc\" in /Users/chen/.pyenv/versions/3.7.2/envs/webinar/lib/python3.7/site-packages (from google-api-core[grpc]<2.0.0dev,>=1.14.0->dialogflow) (1.25.0)\n",
      "Requirement already satisfied: pyasn1-modules>=0.2.1 in /Users/chen/.pyenv/versions/3.7.2/envs/webinar/lib/python3.7/site-packages (from google-auth<2.0dev,>=0.4.0->google-api-core[grpc]<2.0.0dev,>=1.14.0->dialogflow) (0.2.7)\n",
      "Requirement already satisfied: cachetools<3.2,>=2.0.0 in /Users/chen/.pyenv/versions/3.7.2/envs/webinar/lib/python3.7/site-packages (from google-auth<2.0dev,>=0.4.0->google-api-core[grpc]<2.0.0dev,>=1.14.0->dialogflow) (3.1.1)\n",
      "Requirement already satisfied: rsa<4.1,>=3.1.4 in /Users/chen/.pyenv/versions/3.7.2/envs/webinar/lib/python3.7/site-packages (from google-auth<2.0dev,>=0.4.0->google-api-core[grpc]<2.0.0dev,>=1.14.0->dialogflow) (4.0)\n",
      "Requirement already satisfied: certifi>=2017.4.17 in /Users/chen/.pyenv/versions/3.7.2/envs/webinar/lib/python3.7/site-packages (from requests<3.0.0dev,>=2.18.0->google-api-core[grpc]<2.0.0dev,>=1.14.0->dialogflow) (2019.9.11)\n",
      "Requirement already satisfied: urllib3!=1.25.0,!=1.25.1,<1.26,>=1.21.1 in /Users/chen/.pyenv/versions/3.7.2/envs/webinar/lib/python3.7/site-packages (from requests<3.0.0dev,>=2.18.0->google-api-core[grpc]<2.0.0dev,>=1.14.0->dialogflow) (1.25.7)\n",
      "Requirement already satisfied: idna<2.9,>=2.5 in /Users/chen/.pyenv/versions/3.7.2/envs/webinar/lib/python3.7/site-packages (from requests<3.0.0dev,>=2.18.0->google-api-core[grpc]<2.0.0dev,>=1.14.0->dialogflow) (2.8)\n",
      "Requirement already satisfied: chardet<3.1.0,>=3.0.2 in /Users/chen/.pyenv/versions/3.7.2/envs/webinar/lib/python3.7/site-packages (from requests<3.0.0dev,>=2.18.0->google-api-core[grpc]<2.0.0dev,>=1.14.0->dialogflow) (3.0.4)\n",
      "Requirement already satisfied: pyasn1<0.5.0,>=0.4.6 in /Users/chen/.pyenv/versions/3.7.2/envs/webinar/lib/python3.7/site-packages (from pyasn1-modules>=0.2.1->google-auth<2.0dev,>=0.4.0->google-api-core[grpc]<2.0.0dev,>=1.14.0->dialogflow) (0.4.8)\n"
     ]
    }
   ],
   "source": [
    "!pip install dialogflow"
   ]
  },
  {
   "cell_type": "code",
   "execution_count": 63,
   "metadata": {},
   "outputs": [],
   "source": [
    "import json\n",
    "import dialogflow_v2beta1 as dialogflow\n",
    "\n",
    "session_client = dialogflow.SessionsClient.from_service_account_json(\n",
    "    \"dialogflow_serviceaccount.json\"\n",
    ")\n",
    "\n",
    "with open(\"dialogflow_serviceaccount.json\", \"r\") as f:\n",
    "    sacc = json.load(f)\n",
    "project_id = sacc[\"project_id\"]"
   ]
  },
  {
   "cell_type": "code",
   "execution_count": null,
   "metadata": {},
   "outputs": [],
   "source": []
  },
  {
   "cell_type": "code",
   "execution_count": 64,
   "metadata": {},
   "outputs": [],
   "source": [
    "\n",
    "def detect_intent(session_id, text, language_code=\"en\"):\n",
    "    \"\"\"Returns the result of detect intent with texts as inputs.\n",
    "    Using the same `session_id` between requests allows continuation\n",
    "    of the conversation.\"\"\"\n",
    "\n",
    "    session = session_client.session_path(project_id, session_id)\n",
    "\n",
    "    text_input = dialogflow.types.TextInput(text=text, language_code=language_code)\n",
    "\n",
    "    query_input = dialogflow.types.QueryInput(text=text_input)\n",
    "\n",
    "    response = session_client.detect_intent(session=session, query_input=query_input)\n",
    "\n",
    "    return response\n"
   ]
  },
  {
   "cell_type": "code",
   "execution_count": 68,
   "metadata": {},
   "outputs": [
    {
     "data": {
      "text/plain": [
       "response_id: \"b088134a-7890-482e-a842-f4af0561c0c5-9cc28bb4\"\n",
       "query_result {\n",
       "  query_text: \"savings?\"\n",
       "  action: \"account.balance.check\"\n",
       "  parameters {\n",
       "    fields {\n",
       "      key: \"account\"\n",
       "      value {\n",
       "        string_value: \"savings account\"\n",
       "      }\n",
       "    }\n",
       "  }\n",
       "  all_required_params_present: true\n",
       "  fulfillment_text: \"Here\\'s your latest balance:\"\n",
       "  fulfillment_messages {\n",
       "    text {\n",
       "      text: \"Here\\'s your latest balance:\"\n",
       "    }\n",
       "  }\n",
       "  output_contexts {\n",
       "    name: \"projects/banking-qvegra/agent/sessions/xsfsfdgdfgddf24/contexts/balance\"\n",
       "    lifespan_count: 5\n",
       "    parameters {\n",
       "      fields {\n",
       "        key: \"account\"\n",
       "        value {\n",
       "          string_value: \"savings account\"\n",
       "        }\n",
       "      }\n",
       "      fields {\n",
       "        key: \"account.original\"\n",
       "        value {\n",
       "          string_value: \"savings\"\n",
       "        }\n",
       "      }\n",
       "    }\n",
       "  }\n",
       "  intent {\n",
       "    name: \"projects/banking-qvegra/agent/intents/e43a1f20-41d4-4e79-ad87-8d88221daedc\"\n",
       "    display_name: \"account.balance.check\"\n",
       "  }\n",
       "  intent_detection_confidence: 1.0\n",
       "  language_code: \"en\"\n",
       "}"
      ]
     },
     "execution_count": 68,
     "metadata": {},
     "output_type": "execute_result"
    }
   ],
   "source": [
    "detect_intent(\"xsfsfdgdfgddf24\", \"savings?\")"
   ]
  },
  {
   "cell_type": "code",
   "execution_count": 76,
   "metadata": {},
   "outputs": [],
   "source": [
    "from enum import Enum\n",
    "class Comps(Enum):\n",
    "    MAIN = \"main\"\n",
    "    REGISTER = \"register_vp3\""
   ]
  },
  {
   "cell_type": "code",
   "execution_count": null,
   "metadata": {},
   "outputs": [],
   "source": []
  },
  {
   "cell_type": "code",
   "execution_count": 77,
   "metadata": {},
   "outputs": [],
   "source": [
    "import uuid\n",
    "session_id = str(uuid.uuid4())\n",
    "comp = Comps.MAIN\n",
    "\n",
    "def respond(uinput):\n",
    "    global comp\n",
    "    if comp == Comps.MAIN:\n",
    "        df_resp = detect_intent(session_id, uinput)\n",
    "        if df_resp.query_result.intent.display_name == \"account.open\":\n",
    "            comp = Comps.REGISTER\n",
    "            return respond(uinput)\n",
    "        return df_resp.query_result.fulfillment_text\n",
    "    elif comp == Comps.REGISTER:\n",
    "        coco_resp = coco.exchange(comp.value, session_id, uinput)\n",
    "        if coco_resp.component_done:\n",
    "            comp = Comps.MAIN\n",
    "        return coco_resp.response\n",
    "            \n",
    "    return \"fallback\"\n",
    "    "
   ]
  },
  {
   "cell_type": "code",
   "execution_count": 75,
   "metadata": {},
   "outputs": [
    {
     "data": {
      "text/plain": [
       "\"Anytime. That's what I'm here for.\""
      ]
     },
     "execution_count": 75,
     "metadata": {},
     "output_type": "execute_result"
    }
   ],
   "source": [
    "respond(\"thanks\")"
   ]
  },
  {
   "cell_type": "code",
   "execution_count": 32,
   "metadata": {},
   "outputs": [],
   "source": [
    "import coco"
   ]
  },
  {
   "cell_type": "code",
   "execution_count": 13,
   "metadata": {},
   "outputs": [],
   "source": [
    "sess = coco.ComponentSession(\"namer_vp3\")"
   ]
  },
  {
   "cell_type": "code",
   "execution_count": 14,
   "metadata": {},
   "outputs": [
    {
     "data": {
      "text/plain": [
       "{\n",
       " \u001b[94m\"response\"\u001b[39;49;00m: \u001b[33m\"Will you please tell me your name?\"\u001b[39;49;00m,\n",
       " \u001b[94m\"component_done\"\u001b[39;49;00m: \u001b[34mfalse\u001b[39;49;00m,\n",
       " \u001b[94m\"component_failed\"\u001b[39;49;00m: \u001b[34mfalse\u001b[39;49;00m,\n",
       " \u001b[94m\"updated_context\"\u001b[39;49;00m: {},\n",
       " \u001b[94m\"confidence\"\u001b[39;49;00m: \u001b[34m1\u001b[39;49;00m,\n",
       " \u001b[94m\"idontknow\"\u001b[39;49;00m: \u001b[34mfalse\u001b[39;49;00m,\n",
       " \u001b[94m\"action_name\"\u001b[39;49;00m: \u001b[34mnull\u001b[39;49;00m,\n",
       " \u001b[94m\"response_time\"\u001b[39;49;00m: \u001b[34m0.0065541267\u001b[39;49;00m\n",
       "}"
      ]
     },
     "execution_count": 14,
     "metadata": {},
     "output_type": "execute_result"
    }
   ],
   "source": [
    "sess(\"hi\")"
   ]
  },
  {
   "cell_type": "code",
   "execution_count": null,
   "metadata": {},
   "outputs": [],
   "source": []
  },
  {
   "cell_type": "code",
   "execution_count": null,
   "metadata": {},
   "outputs": [],
   "source": []
  },
  {
   "cell_type": "code",
   "execution_count": 33,
   "metadata": {},
   "outputs": [
    {
     "data": {
      "text/plain": [
       "\u001b[0;31mSignature:\u001b[0m\n",
       "\u001b[0mcoco\u001b[0m\u001b[0;34m.\u001b[0m\u001b[0mexchange\u001b[0m\u001b[0;34m(\u001b[0m\u001b[0;34m\u001b[0m\n",
       "\u001b[0;34m\u001b[0m    \u001b[0mcomponent_id\u001b[0m\u001b[0;34m:\u001b[0m \u001b[0mstr\u001b[0m\u001b[0;34m,\u001b[0m\u001b[0;34m\u001b[0m\n",
       "\u001b[0;34m\u001b[0m    \u001b[0msession_id\u001b[0m\u001b[0;34m:\u001b[0m \u001b[0mstr\u001b[0m\u001b[0;34m,\u001b[0m\u001b[0;34m\u001b[0m\n",
       "\u001b[0;34m\u001b[0m    \u001b[0muser_input\u001b[0m\u001b[0;34m:\u001b[0m \u001b[0mstr\u001b[0m \u001b[0;34m=\u001b[0m \u001b[0;32mNone\u001b[0m\u001b[0;34m,\u001b[0m\u001b[0;34m\u001b[0m\n",
       "\u001b[0;34m\u001b[0m    \u001b[0;34m**\u001b[0m\u001b[0mkwargs\u001b[0m\u001b[0;34m,\u001b[0m\u001b[0;34m\u001b[0m\n",
       "\u001b[0;34m\u001b[0m\u001b[0;34m)\u001b[0m \u001b[0;34m->\u001b[0m \u001b[0mcoco\u001b[0m\u001b[0;34m.\u001b[0m\u001b[0mcoco\u001b[0m\u001b[0;34m.\u001b[0m\u001b[0mCoCoResponse\u001b[0m\u001b[0;34m\u001b[0m\u001b[0;34m\u001b[0m\u001b[0m\n",
       "\u001b[0;31mDocstring:\u001b[0m\n",
       "calls coco and try to maintain similar api.\n",
       "available optional kwargs are:\n",
       "    user_input\n",
       "    context\n",
       "\n",
       "full api spec available at app.coco.imperson.com\n",
       "\n",
       "Arguments:\n",
       "    component_id {str} -- the component id from coco app\n",
       "    session_id {str} -- a randomly generated session id to identify the session\n",
       "\n",
       "Returns:\n",
       "    CoCoResponse instance\n",
       "\u001b[0;31mFile:\u001b[0m      ~/.pyenv/versions/3.7.2/envs/webinar/lib/python3.7/site-packages/coco/coco.py\n",
       "\u001b[0;31mType:\u001b[0m      function\n"
      ]
     },
     "metadata": {},
     "output_type": "display_data"
    }
   ],
   "source": [
    "coco.exchange?"
   ]
  },
  {
   "cell_type": "code",
   "execution_count": null,
   "metadata": {},
   "outputs": [],
   "source": []
  }
 ],
 "metadata": {
  "file_extension": ".py",
  "kernelspec": {
   "display_name": "Python 3",
   "language": "python",
   "name": "python3"
  },
  "language_info": {
   "codemirror_mode": {
    "name": "ipython",
    "version": 3
   },
   "file_extension": ".py",
   "mimetype": "text/x-python",
   "name": "python",
   "nbconvert_exporter": "python",
   "pygments_lexer": "ipython3",
   "version": "3.7.2"
  },
  "mimetype": "text/x-python",
  "name": "python",
  "npconvert_exporter": "python",
  "pygments_lexer": "ipython3",
  "version": 3
 },
 "nbformat": 4,
 "nbformat_minor": 4
}
