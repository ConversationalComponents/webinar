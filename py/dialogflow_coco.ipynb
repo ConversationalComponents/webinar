{
 "cells": [
  {
   "cell_type": "markdown",
   "metadata": {},
   "source": [
    "# Dialogflow with CoCo Tutorial"
   ]
  },
  {
   "cell_type": "markdown",
   "metadata": {},
   "source": [
    "## dialogflow steps\n",
    "\n",
    "1. create a banking prebuilt agent on dialogflow\n",
    "2. go to settings and download the service account JSON\n",
    "3. place it in this folder under the name service_account.json"
   ]
  },
  {
   "cell_type": "markdown",
   "metadata": {},
   "source": [
    "### connecting to dialogflow using the Dialogflow SDK"
   ]
  },
  {
   "cell_type": "markdown",
   "metadata": {},
   "source": [
    "### installation\n",
    "it is recommended to perform this step in a virtual enviroment\n"
   ]
  },
  {
   "cell_type": "code",
   "execution_count": 15,
   "metadata": {},
   "outputs": [
    {
     "name": "stdout",
     "output_type": "stream",
     "text": [
      "Requirement already satisfied: dialogflow in /Users/chen/.pyenv/versions/3.7.2/envs/webinar/lib/python3.7/site-packages (0.7.2)\n",
      "Requirement already satisfied: coco-sdk in /Users/chen/.pyenv/versions/3.7.2/envs/webinar/lib/python3.7/site-packages (0.0.3)\n",
      "Requirement already satisfied: google-api-core[grpc]<2.0.0dev,>=1.14.0 in /Users/chen/.pyenv/versions/3.7.2/envs/webinar/lib/python3.7/site-packages (from dialogflow) (1.14.3)\n",
      "Requirement already satisfied: pygments in /Users/chen/.pyenv/versions/3.7.2/envs/webinar/lib/python3.7/site-packages (from coco-sdk) (2.4.2)\n",
      "Requirement already satisfied: requests in /Users/chen/.pyenv/versions/3.7.2/envs/webinar/lib/python3.7/site-packages (from coco-sdk) (2.22.0)\n",
      "Requirement already satisfied: setuptools>=34.0.0 in /Users/chen/.pyenv/versions/3.7.2/envs/webinar/lib/python3.7/site-packages (from google-api-core[grpc]<2.0.0dev,>=1.14.0->dialogflow) (40.6.2)\n",
      "Requirement already satisfied: six>=1.10.0 in /Users/chen/.pyenv/versions/3.7.2/envs/webinar/lib/python3.7/site-packages (from google-api-core[grpc]<2.0.0dev,>=1.14.0->dialogflow) (1.13.0)\n",
      "Requirement already satisfied: googleapis-common-protos<2.0dev,>=1.6.0 in /Users/chen/.pyenv/versions/3.7.2/envs/webinar/lib/python3.7/site-packages (from google-api-core[grpc]<2.0.0dev,>=1.14.0->dialogflow) (1.6.0)\n",
      "Requirement already satisfied: pytz in /Users/chen/.pyenv/versions/3.7.2/envs/webinar/lib/python3.7/site-packages (from google-api-core[grpc]<2.0.0dev,>=1.14.0->dialogflow) (2019.3)\n",
      "Requirement already satisfied: protobuf>=3.4.0 in /Users/chen/.pyenv/versions/3.7.2/envs/webinar/lib/python3.7/site-packages (from google-api-core[grpc]<2.0.0dev,>=1.14.0->dialogflow) (3.10.0)\n",
      "Requirement already satisfied: google-auth<2.0dev,>=0.4.0 in /Users/chen/.pyenv/versions/3.7.2/envs/webinar/lib/python3.7/site-packages (from google-api-core[grpc]<2.0.0dev,>=1.14.0->dialogflow) (1.7.1)\n",
      "Requirement already satisfied: grpcio<2.0dev,>=1.8.2; extra == \"grpc\" in /Users/chen/.pyenv/versions/3.7.2/envs/webinar/lib/python3.7/site-packages (from google-api-core[grpc]<2.0.0dev,>=1.14.0->dialogflow) (1.25.0)\n",
      "Requirement already satisfied: chardet<3.1.0,>=3.0.2 in /Users/chen/.pyenv/versions/3.7.2/envs/webinar/lib/python3.7/site-packages (from requests->coco-sdk) (3.0.4)\n",
      "Requirement already satisfied: urllib3!=1.25.0,!=1.25.1,<1.26,>=1.21.1 in /Users/chen/.pyenv/versions/3.7.2/envs/webinar/lib/python3.7/site-packages (from requests->coco-sdk) (1.25.7)\n",
      "Requirement already satisfied: idna<2.9,>=2.5 in /Users/chen/.pyenv/versions/3.7.2/envs/webinar/lib/python3.7/site-packages (from requests->coco-sdk) (2.8)\n",
      "Requirement already satisfied: certifi>=2017.4.17 in /Users/chen/.pyenv/versions/3.7.2/envs/webinar/lib/python3.7/site-packages (from requests->coco-sdk) (2019.9.11)\n",
      "Requirement already satisfied: cachetools<3.2,>=2.0.0 in /Users/chen/.pyenv/versions/3.7.2/envs/webinar/lib/python3.7/site-packages (from google-auth<2.0dev,>=0.4.0->google-api-core[grpc]<2.0.0dev,>=1.14.0->dialogflow) (3.1.1)\n",
      "Requirement already satisfied: rsa<4.1,>=3.1.4 in /Users/chen/.pyenv/versions/3.7.2/envs/webinar/lib/python3.7/site-packages (from google-auth<2.0dev,>=0.4.0->google-api-core[grpc]<2.0.0dev,>=1.14.0->dialogflow) (4.0)\n",
      "Requirement already satisfied: pyasn1-modules>=0.2.1 in /Users/chen/.pyenv/versions/3.7.2/envs/webinar/lib/python3.7/site-packages (from google-auth<2.0dev,>=0.4.0->google-api-core[grpc]<2.0.0dev,>=1.14.0->dialogflow) (0.2.7)\n",
      "Requirement already satisfied: pyasn1>=0.1.3 in /Users/chen/.pyenv/versions/3.7.2/envs/webinar/lib/python3.7/site-packages (from rsa<4.1,>=3.1.4->google-auth<2.0dev,>=0.4.0->google-api-core[grpc]<2.0.0dev,>=1.14.0->dialogflow) (0.4.8)\n"
     ]
    }
   ],
   "source": [
    "!pip install dialogflow coco-sdk"
   ]
  },
  {
   "cell_type": "markdown",
   "metadata": {},
   "source": [
    "### setting up the sdk\n",
    "we initalize a dialogflow SessionsClient from the service account we downloaded"
   ]
  },
  {
   "cell_type": "code",
   "execution_count": 16,
   "metadata": {},
   "outputs": [],
   "source": [
    "import json\n",
    "import dialogflow_v2beta1 as dialogflow\n",
    "import uuid"
   ]
  },
  {
   "cell_type": "code",
   "execution_count": 17,
   "metadata": {},
   "outputs": [],
   "source": [
    "\n",
    "session_client = dialogflow.SessionsClient.from_service_account_json(\n",
    "    \"service_account.json\"\n",
    ")\n",
    "\n",
    "with open(\"service_account.json\", \"r\") as f:\n",
    "    sacc = json.load(f)\n",
    "project_id = sacc[\"project_id\"]"
   ]
  },
  {
   "cell_type": "markdown",
   "metadata": {},
   "source": [
    "helper function to call dialog flow"
   ]
  },
  {
   "cell_type": "code",
   "execution_count": 18,
   "metadata": {},
   "outputs": [],
   "source": [
    "\n",
    "def detect_intent(session_id, text, language_code=\"en\"):\n",
    "    \"\"\"Returns the result of detect intent with texts as inputs.\n",
    "    Using the same `session_id` between requests allows continuation\n",
    "    of the conversation.\"\"\"\n",
    "\n",
    "    session = session_client.session_path(project_id, session_id)\n",
    "\n",
    "    text_input = dialogflow.types.TextInput(text=text, language_code=language_code)\n",
    "\n",
    "    query_input = dialogflow.types.QueryInput(text=text_input)\n",
    "\n",
    "    response = session_client.detect_intent(session=session, query_input=query_input)\n",
    "\n",
    "    return response\n"
   ]
  },
  {
   "cell_type": "code",
   "execution_count": 21,
   "metadata": {},
   "outputs": [
    {
     "data": {
      "text/plain": [
       "response_id: \"cc98a35d-0b5d-43db-bde1-ad33bcc6555f-9cc28bb4\"\n",
       "query_result {\n",
       "  query_text: \"I want to open an account\"\n",
       "  action: \"account.open\"\n",
       "  parameters {\n",
       "  }\n",
       "  all_required_params_present: true\n",
       "  fulfillment_text: \"To open your account you should come to one of our banks in person. Don\\'t forget to bring your ID.\"\n",
       "  fulfillment_messages {\n",
       "    text {\n",
       "      text: \"To open your account you should come to one of our banks in person. Don\\'t forget to bring your ID.\"\n",
       "    }\n",
       "  }\n",
       "  intent {\n",
       "    name: \"projects/banking-qvegra/agent/intents/4e717976-858b-4e3e-b6e5-1b5e81cba92e\"\n",
       "    display_name: \"account.open\"\n",
       "  }\n",
       "  intent_detection_confidence: 1.0\n",
       "  language_code: \"en\"\n",
       "}"
      ]
     },
     "execution_count": 21,
     "metadata": {},
     "output_type": "execute_result"
    }
   ],
   "source": [
    "# generate an example session id\n",
    "example_session_id = str(uuid.uuid4())\n",
    "# call dialogflow\n",
    "detect_intent(example_session_id, \"I want to open an account\")"
   ]
  },
  {
   "cell_type": "code",
   "execution_count": 32,
   "metadata": {},
   "outputs": [],
   "source": [
    "import coco"
   ]
  },
  {
   "cell_type": "code",
   "execution_count": 13,
   "metadata": {},
   "outputs": [],
   "source": [
    "sess = coco.ComponentSession(\"namer_vp3\")"
   ]
  },
  {
   "cell_type": "code",
   "execution_count": 14,
   "metadata": {},
   "outputs": [
    {
     "data": {
      "text/plain": [
       "{\n",
       " \u001b[94m\"response\"\u001b[39;49;00m: \u001b[33m\"Will you please tell me your name?\"\u001b[39;49;00m,\n",
       " \u001b[94m\"component_done\"\u001b[39;49;00m: \u001b[34mfalse\u001b[39;49;00m,\n",
       " \u001b[94m\"component_failed\"\u001b[39;49;00m: \u001b[34mfalse\u001b[39;49;00m,\n",
       " \u001b[94m\"updated_context\"\u001b[39;49;00m: {},\n",
       " \u001b[94m\"confidence\"\u001b[39;49;00m: \u001b[34m1\u001b[39;49;00m,\n",
       " \u001b[94m\"idontknow\"\u001b[39;49;00m: \u001b[34mfalse\u001b[39;49;00m,\n",
       " \u001b[94m\"action_name\"\u001b[39;49;00m: \u001b[34mnull\u001b[39;49;00m,\n",
       " \u001b[94m\"response_time\"\u001b[39;49;00m: \u001b[34m0.0065541267\u001b[39;49;00m\n",
       "}"
      ]
     },
     "execution_count": 14,
     "metadata": {},
     "output_type": "execute_result"
    }
   ],
   "source": [
    "sess(\"hi\")"
   ]
  }
 ],
 "metadata": {
  "file_extension": ".py",
  "kernelspec": {
   "display_name": "Python 3",
   "language": "python",
   "name": "python3"
  },
  "language_info": {
   "codemirror_mode": {
    "name": "ipython",
    "version": 3
   },
   "file_extension": ".py",
   "mimetype": "text/x-python",
   "name": "python",
   "nbconvert_exporter": "python",
   "pygments_lexer": "ipython3",
   "version": "3.7.2"
  },
  "mimetype": "text/x-python",
  "name": "python",
  "npconvert_exporter": "python",
  "pygments_lexer": "ipython3",
  "version": 3
 },
 "nbformat": 4,
 "nbformat_minor": 4
}